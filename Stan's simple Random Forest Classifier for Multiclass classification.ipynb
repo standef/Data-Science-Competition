{
 "cells": [
  {
   "cell_type": "code",
   "execution_count": 1,
   "metadata": {},
   "outputs": [],
   "source": [
    "import numpy as np\n",
    "import pandas as pd \n",
    "import seaborn as sns \n",
    "import matplotlib.pyplot as plt\n",
    "\n",
    "test_camera = pd.read_csv(\"galaxy-star-or-quasar/test_sdss_camera.csv\", index_col=\"id\")\n",
    "train_camera = pd.read_csv(\"galaxy-star-or-quasar/train_sdss_camera.csv\", index_col=\"id\")\n",
    "test_position = pd.read_csv(\"galaxy-star-or-quasar/test_sky_position.csv\", index_col=\"id\")\n",
    "train_position = pd.read_csv(\"galaxy-star-or-quasar/train_sky_position.csv\", index_col=\"id\")\n",
    "\n",
    "# Merging\n",
    "train_set = train_camera.merge(train_position, on='id', how='left')\n",
    "test_set = test_camera.merge(test_position, on='id', how='left')\n",
    "\n",
    "# Dummies for Sky_Zone\n",
    "sz_dum = pd.get_dummies(train_set['sky_zone'])\n",
    "sz_dum_t = pd.get_dummies(test_set['sky_zone'])\n",
    "\n",
    "# Merging dummies to dfs\n",
    "train_set = train_set.merge(sz_dum, left_on='id', right_on='id')\n",
    "test_set = test_set.merge(sz_dum_t, left_on='id', right_on='id')\n",
    "\n",
    "#dropping Sky_Zone\n",
    "train_set = train_set.drop('sky_zone', axis=1)\n",
    "test_set = test_set.drop('sky_zone', axis=1)\n",
    "\n",
    "# Dropping constant variables\n",
    "train_set = train_set.drop(columns=['rerun'])\n",
    "test_set = test_set.drop(columns=['rerun'])"
   ]
  },
  {
   "cell_type": "code",
   "execution_count": 2,
   "metadata": {},
   "outputs": [],
   "source": [
    "# Replacing missing values in u,g,r,i,z variables by the mean of each of these variables. \n",
    "\n",
    "train_set['u'] = train_set['u'].fillna(train_set['u'].mean())\n",
    "train_set['g'] = train_set['g'].fillna(train_set['g'].mean())\n",
    "train_set['r'] = train_set['r'].fillna(train_set['r'].mean())\n",
    "train_set['i'] = train_set['i'].fillna(train_set['i'].mean())\n",
    "train_set['z'] = train_set['z'].fillna(train_set['z'].mean())\n",
    "\n",
    "test_set['u'] = test_set['u'].fillna(test_set['u'].mean())\n",
    "test_set['g'] = test_set['g'].fillna(test_set['g'].mean())\n",
    "test_set['r'] = test_set['r'].fillna(test_set['r'].mean())\n",
    "test_set['i'] = test_set['i'].fillna(test_set['i'].mean())\n",
    "test_set['z'] = test_set['z'].fillna(test_set['z'].mean())"
   ]
  },
  {
   "cell_type": "code",
   "execution_count": 3,
   "metadata": {},
   "outputs": [
    {
     "name": "stdout",
     "output_type": "stream",
     "text": [
      "<class 'pandas.core.frame.DataFrame'>\n",
      "Int64Index: 18000 entries, 1 to 18000\n",
      "Data columns (total 21 columns):\n",
      " #   Column       Non-Null Count  Dtype  \n",
      "---  ------       --------------  -----  \n",
      " 0   u            18000 non-null  float64\n",
      " 1   g            18000 non-null  float64\n",
      " 2   r            18000 non-null  float64\n",
      " 3   i            18000 non-null  float64\n",
      " 4   z            18000 non-null  float64\n",
      " 5   run          18000 non-null  int64  \n",
      " 6   camcol       18000 non-null  int64  \n",
      " 7   field        18000 non-null  int64  \n",
      " 8   ra           17140 non-null  float64\n",
      " 9   dec          18000 non-null  float64\n",
      " 10  object_type  18000 non-null  object \n",
      " 11  A            18000 non-null  uint8  \n",
      " 12  B            18000 non-null  uint8  \n",
      " 13  C            18000 non-null  uint8  \n",
      " 14  D            18000 non-null  uint8  \n",
      " 15  E            18000 non-null  uint8  \n",
      " 16  F            18000 non-null  uint8  \n",
      " 17  G            18000 non-null  uint8  \n",
      " 18  H            18000 non-null  uint8  \n",
      " 19  I            18000 non-null  uint8  \n",
      " 20  J            18000 non-null  uint8  \n",
      "dtypes: float64(7), int64(3), object(1), uint8(10)\n",
      "memory usage: 1.8+ MB\n"
     ]
    }
   ],
   "source": [
    "train_set.info()"
   ]
  },
  {
   "cell_type": "code",
   "execution_count": 4,
   "metadata": {},
   "outputs": [],
   "source": [
    "# I've noticed that for each value of 'ra', doing 'dec'*'run'/1000 approaches quite well the value of 'ra'.\n",
    "# -> Imputing NaNs in the 'ra' column with 'dec'*'run'/1000 assuming linear relationship. \n",
    "\n",
    "train_set.ra.fillna(abs(train_set.dec*train_set.run)/1000, inplace=True)\n",
    "test_set.ra.fillna(abs(test_set.dec*test_set.run)/1000, inplace=True)"
   ]
  },
  {
   "cell_type": "code",
   "execution_count": 5,
   "metadata": {},
   "outputs": [
    {
     "data": {
      "text/html": [
       "<div>\n",
       "<style scoped>\n",
       "    .dataframe tbody tr th:only-of-type {\n",
       "        vertical-align: middle;\n",
       "    }\n",
       "\n",
       "    .dataframe tbody tr th {\n",
       "        vertical-align: top;\n",
       "    }\n",
       "\n",
       "    .dataframe thead th {\n",
       "        text-align: right;\n",
       "    }\n",
       "</style>\n",
       "<table border=\"1\" class=\"dataframe\">\n",
       "  <thead>\n",
       "    <tr style=\"text-align: right;\">\n",
       "      <th></th>\n",
       "      <th>u</th>\n",
       "      <th>g</th>\n",
       "      <th>r</th>\n",
       "      <th>i</th>\n",
       "      <th>z</th>\n",
       "      <th>run</th>\n",
       "      <th>camcol</th>\n",
       "      <th>field</th>\n",
       "      <th>ra</th>\n",
       "      <th>dec</th>\n",
       "      <th>...</th>\n",
       "      <th>A</th>\n",
       "      <th>B</th>\n",
       "      <th>C</th>\n",
       "      <th>D</th>\n",
       "      <th>E</th>\n",
       "      <th>F</th>\n",
       "      <th>G</th>\n",
       "      <th>H</th>\n",
       "      <th>I</th>\n",
       "      <th>J</th>\n",
       "    </tr>\n",
       "    <tr>\n",
       "      <th>id</th>\n",
       "      <th></th>\n",
       "      <th></th>\n",
       "      <th></th>\n",
       "      <th></th>\n",
       "      <th></th>\n",
       "      <th></th>\n",
       "      <th></th>\n",
       "      <th></th>\n",
       "      <th></th>\n",
       "      <th></th>\n",
       "      <th></th>\n",
       "      <th></th>\n",
       "      <th></th>\n",
       "      <th></th>\n",
       "      <th></th>\n",
       "      <th></th>\n",
       "      <th></th>\n",
       "      <th></th>\n",
       "      <th></th>\n",
       "      <th></th>\n",
       "      <th></th>\n",
       "    </tr>\n",
       "  </thead>\n",
       "  <tbody>\n",
       "    <tr>\n",
       "      <th>1</th>\n",
       "      <td>18.45886</td>\n",
       "      <td>17.24552</td>\n",
       "      <td>16.65724</td>\n",
       "      <td>16.27922</td>\n",
       "      <td>16.07007</td>\n",
       "      <td>3712</td>\n",
       "      <td>5</td>\n",
       "      <td>198</td>\n",
       "      <td>214.002267</td>\n",
       "      <td>54.488814</td>\n",
       "      <td>...</td>\n",
       "      <td>0</td>\n",
       "      <td>0</td>\n",
       "      <td>0</td>\n",
       "      <td>0</td>\n",
       "      <td>0</td>\n",
       "      <td>0</td>\n",
       "      <td>0</td>\n",
       "      <td>0</td>\n",
       "      <td>1</td>\n",
       "      <td>0</td>\n",
       "    </tr>\n",
       "    <tr>\n",
       "      <th>2</th>\n",
       "      <td>18.50274</td>\n",
       "      <td>17.50821</td>\n",
       "      <td>17.19507</td>\n",
       "      <td>17.07868</td>\n",
       "      <td>17.08054</td>\n",
       "      <td>3705</td>\n",
       "      <td>6</td>\n",
       "      <td>131</td>\n",
       "      <td>220.688333</td>\n",
       "      <td>53.185834</td>\n",
       "      <td>...</td>\n",
       "      <td>0</td>\n",
       "      <td>0</td>\n",
       "      <td>0</td>\n",
       "      <td>0</td>\n",
       "      <td>0</td>\n",
       "      <td>0</td>\n",
       "      <td>0</td>\n",
       "      <td>0</td>\n",
       "      <td>1</td>\n",
       "      <td>0</td>\n",
       "    </tr>\n",
       "    <tr>\n",
       "      <th>3</th>\n",
       "      <td>18.69451</td>\n",
       "      <td>17.30333</td>\n",
       "      <td>16.48301</td>\n",
       "      <td>16.05570</td>\n",
       "      <td>15.75763</td>\n",
       "      <td>5323</td>\n",
       "      <td>5</td>\n",
       "      <td>140</td>\n",
       "      <td>249.118754</td>\n",
       "      <td>12.091483</td>\n",
       "      <td>...</td>\n",
       "      <td>0</td>\n",
       "      <td>0</td>\n",
       "      <td>0</td>\n",
       "      <td>0</td>\n",
       "      <td>1</td>\n",
       "      <td>0</td>\n",
       "      <td>0</td>\n",
       "      <td>0</td>\n",
       "      <td>0</td>\n",
       "      <td>0</td>\n",
       "    </tr>\n",
       "    <tr>\n",
       "      <th>4</th>\n",
       "      <td>19.34373</td>\n",
       "      <td>18.32701</td>\n",
       "      <td>17.97602</td>\n",
       "      <td>17.82627</td>\n",
       "      <td>17.75770</td>\n",
       "      <td>8108</td>\n",
       "      <td>4</td>\n",
       "      <td>57</td>\n",
       "      <td>330.633293</td>\n",
       "      <td>18.920049</td>\n",
       "      <td>...</td>\n",
       "      <td>0</td>\n",
       "      <td>0</td>\n",
       "      <td>1</td>\n",
       "      <td>0</td>\n",
       "      <td>0</td>\n",
       "      <td>0</td>\n",
       "      <td>0</td>\n",
       "      <td>0</td>\n",
       "      <td>0</td>\n",
       "      <td>0</td>\n",
       "    </tr>\n",
       "    <tr>\n",
       "      <th>5</th>\n",
       "      <td>19.33328</td>\n",
       "      <td>18.13790</td>\n",
       "      <td>17.58180</td>\n",
       "      <td>17.21341</td>\n",
       "      <td>16.99397</td>\n",
       "      <td>4187</td>\n",
       "      <td>2</td>\n",
       "      <td>107</td>\n",
       "      <td>3.406978</td>\n",
       "      <td>-0.813704</td>\n",
       "      <td>...</td>\n",
       "      <td>0</td>\n",
       "      <td>0</td>\n",
       "      <td>1</td>\n",
       "      <td>0</td>\n",
       "      <td>0</td>\n",
       "      <td>0</td>\n",
       "      <td>0</td>\n",
       "      <td>0</td>\n",
       "      <td>0</td>\n",
       "      <td>0</td>\n",
       "    </tr>\n",
       "  </tbody>\n",
       "</table>\n",
       "<p>5 rows × 21 columns</p>\n",
       "</div>"
      ],
      "text/plain": [
       "           u         g         r         i         z   run  camcol  field  \\\n",
       "id                                                                          \n",
       "1   18.45886  17.24552  16.65724  16.27922  16.07007  3712       5    198   \n",
       "2   18.50274  17.50821  17.19507  17.07868  17.08054  3705       6    131   \n",
       "3   18.69451  17.30333  16.48301  16.05570  15.75763  5323       5    140   \n",
       "4   19.34373  18.32701  17.97602  17.82627  17.75770  8108       4     57   \n",
       "5   19.33328  18.13790  17.58180  17.21341  16.99397  4187       2    107   \n",
       "\n",
       "            ra        dec  ...  A  B  C  D  E  F  G  H  I  J  \n",
       "id                         ...                                \n",
       "1   214.002267  54.488814  ...  0  0  0  0  0  0  0  0  1  0  \n",
       "2   220.688333  53.185834  ...  0  0  0  0  0  0  0  0  1  0  \n",
       "3   249.118754  12.091483  ...  0  0  0  0  1  0  0  0  0  0  \n",
       "4   330.633293  18.920049  ...  0  0  1  0  0  0  0  0  0  0  \n",
       "5     3.406978  -0.813704  ...  0  0  1  0  0  0  0  0  0  0  \n",
       "\n",
       "[5 rows x 21 columns]"
      ]
     },
     "execution_count": 5,
     "metadata": {},
     "output_type": "execute_result"
    }
   ],
   "source": [
    "train_set.head(5)"
   ]
  },
  {
   "cell_type": "code",
   "execution_count": 6,
   "metadata": {
    "scrolled": true
   },
   "outputs": [
    {
     "name": "stdout",
     "output_type": "stream",
     "text": [
      "<class 'pandas.core.frame.DataFrame'>\n",
      "Int64Index: 18000 entries, 1 to 18000\n",
      "Data columns (total 21 columns):\n",
      " #   Column       Non-Null Count  Dtype  \n",
      "---  ------       --------------  -----  \n",
      " 0   u            18000 non-null  float64\n",
      " 1   g            18000 non-null  float64\n",
      " 2   r            18000 non-null  float64\n",
      " 3   i            18000 non-null  float64\n",
      " 4   z            18000 non-null  float64\n",
      " 5   run          18000 non-null  int64  \n",
      " 6   camcol       18000 non-null  int64  \n",
      " 7   field        18000 non-null  int64  \n",
      " 8   ra           18000 non-null  float64\n",
      " 9   dec          18000 non-null  float64\n",
      " 10  object_type  18000 non-null  object \n",
      " 11  A            18000 non-null  uint8  \n",
      " 12  B            18000 non-null  uint8  \n",
      " 13  C            18000 non-null  uint8  \n",
      " 14  D            18000 non-null  uint8  \n",
      " 15  E            18000 non-null  uint8  \n",
      " 16  F            18000 non-null  uint8  \n",
      " 17  G            18000 non-null  uint8  \n",
      " 18  H            18000 non-null  uint8  \n",
      " 19  I            18000 non-null  uint8  \n",
      " 20  J            18000 non-null  uint8  \n",
      "dtypes: float64(7), int64(3), object(1), uint8(10)\n",
      "memory usage: 1.8+ MB\n"
     ]
    }
   ],
   "source": [
    "train_set.info()"
   ]
  },
  {
   "cell_type": "code",
   "execution_count": 7,
   "metadata": {},
   "outputs": [],
   "source": [
    "X_train = train_set.drop('object_type', axis=1)\n",
    "y_train = train_set[['object_type']]\n",
    "X_test = test_set\n",
    "y_test = pd.DataFrame()"
   ]
  },
  {
   "cell_type": "code",
   "execution_count": 8,
   "metadata": {},
   "outputs": [
    {
     "name": "stderr",
     "output_type": "stream",
     "text": [
      "<ipython-input-8-6630402aa7a0>:5: DataConversionWarning: A column-vector y was passed when a 1d array was expected. Please change the shape of y to (n_samples,), for example using ravel().\n",
      "  clf.fit(X_train, y_train)\n"
     ]
    },
    {
     "data": {
      "text/plain": [
       "RandomForestClassifier(random_state=42)"
      ]
     },
     "execution_count": 8,
     "metadata": {},
     "output_type": "execute_result"
    }
   ],
   "source": [
    "from sklearn.ensemble import RandomForestClassifier\n",
    "\n",
    "clf = RandomForestClassifier(random_state = 42)\n",
    "\n",
    "clf.fit(X_train, y_train)"
   ]
  },
  {
   "cell_type": "code",
   "execution_count": 9,
   "metadata": {},
   "outputs": [],
   "source": [
    "y_pred = clf.predict(X_test)"
   ]
  },
  {
   "cell_type": "code",
   "execution_count": 10,
   "metadata": {
    "scrolled": false
   },
   "outputs": [
    {
     "data": {
      "text/plain": [
       "array(['STAR', 'GALAXY', 'GALAXY', ..., 'GALAXY', 'STAR', 'STAR'],\n",
       "      dtype=object)"
      ]
     },
     "execution_count": 10,
     "metadata": {},
     "output_type": "execute_result"
    }
   ],
   "source": [
    "# My predictions\n",
    "y_pred"
   ]
  },
  {
   "cell_type": "markdown",
   "metadata": {},
   "source": [
    "### Now, I need my predictions to have the same format as the Kaggle one in order to submit them. "
   ]
  },
  {
   "cell_type": "code",
   "execution_count": 11,
   "metadata": {},
   "outputs": [],
   "source": [
    "df = {'id': X_test.index, 'object_type': y_pred}"
   ]
  },
  {
   "cell_type": "code",
   "execution_count": 12,
   "metadata": {},
   "outputs": [],
   "source": [
    "df = pd.DataFrame(df)"
   ]
  },
  {
   "cell_type": "code",
   "execution_count": 13,
   "metadata": {
    "scrolled": false
   },
   "outputs": [
    {
     "data": {
      "text/html": [
       "<div>\n",
       "<style scoped>\n",
       "    .dataframe tbody tr th:only-of-type {\n",
       "        vertical-align: middle;\n",
       "    }\n",
       "\n",
       "    .dataframe tbody tr th {\n",
       "        vertical-align: top;\n",
       "    }\n",
       "\n",
       "    .dataframe thead th {\n",
       "        text-align: right;\n",
       "    }\n",
       "</style>\n",
       "<table border=\"1\" class=\"dataframe\">\n",
       "  <thead>\n",
       "    <tr style=\"text-align: right;\">\n",
       "      <th></th>\n",
       "      <th>id</th>\n",
       "      <th>object_type</th>\n",
       "    </tr>\n",
       "  </thead>\n",
       "  <tbody>\n",
       "    <tr>\n",
       "      <th>0</th>\n",
       "      <td>18001</td>\n",
       "      <td>STAR</td>\n",
       "    </tr>\n",
       "    <tr>\n",
       "      <th>1</th>\n",
       "      <td>18002</td>\n",
       "      <td>GALAXY</td>\n",
       "    </tr>\n",
       "    <tr>\n",
       "      <th>2</th>\n",
       "      <td>18003</td>\n",
       "      <td>GALAXY</td>\n",
       "    </tr>\n",
       "    <tr>\n",
       "      <th>3</th>\n",
       "      <td>18004</td>\n",
       "      <td>GALAXY</td>\n",
       "    </tr>\n",
       "    <tr>\n",
       "      <th>4</th>\n",
       "      <td>18005</td>\n",
       "      <td>GALAXY</td>\n",
       "    </tr>\n",
       "    <tr>\n",
       "      <th>...</th>\n",
       "      <td>...</td>\n",
       "      <td>...</td>\n",
       "    </tr>\n",
       "    <tr>\n",
       "      <th>11995</th>\n",
       "      <td>29996</td>\n",
       "      <td>STAR</td>\n",
       "    </tr>\n",
       "    <tr>\n",
       "      <th>11996</th>\n",
       "      <td>29997</td>\n",
       "      <td>GALAXY</td>\n",
       "    </tr>\n",
       "    <tr>\n",
       "      <th>11997</th>\n",
       "      <td>29998</td>\n",
       "      <td>GALAXY</td>\n",
       "    </tr>\n",
       "    <tr>\n",
       "      <th>11998</th>\n",
       "      <td>29999</td>\n",
       "      <td>STAR</td>\n",
       "    </tr>\n",
       "    <tr>\n",
       "      <th>11999</th>\n",
       "      <td>30000</td>\n",
       "      <td>STAR</td>\n",
       "    </tr>\n",
       "  </tbody>\n",
       "</table>\n",
       "<p>12000 rows × 2 columns</p>\n",
       "</div>"
      ],
      "text/plain": [
       "          id object_type\n",
       "0      18001        STAR\n",
       "1      18002      GALAXY\n",
       "2      18003      GALAXY\n",
       "3      18004      GALAXY\n",
       "4      18005      GALAXY\n",
       "...      ...         ...\n",
       "11995  29996        STAR\n",
       "11996  29997      GALAXY\n",
       "11997  29998      GALAXY\n",
       "11998  29999        STAR\n",
       "11999  30000        STAR\n",
       "\n",
       "[12000 rows x 2 columns]"
      ]
     },
     "execution_count": 13,
     "metadata": {},
     "output_type": "execute_result"
    }
   ],
   "source": [
    "df"
   ]
  },
  {
   "cell_type": "code",
   "execution_count": 14,
   "metadata": {},
   "outputs": [],
   "source": [
    "df.to_csv(\"Stan's predictions.csv\", index=False)"
   ]
  },
  {
   "cell_type": "markdown",
   "metadata": {},
   "source": [
    "### This simple random forest gave me an accuracy of : 0.90850 (~91% accuracy)\n",
    "\n",
    "You can check my `Dataiku work` which gave me a 94% accuracy even quicker."
   ]
  }
 ],
 "metadata": {
  "kernelspec": {
   "display_name": "Python 3",
   "language": "python",
   "name": "python3"
  },
  "language_info": {
   "codemirror_mode": {
    "name": "ipython",
    "version": 3
   },
   "file_extension": ".py",
   "mimetype": "text/x-python",
   "name": "python",
   "nbconvert_exporter": "python",
   "pygments_lexer": "ipython3",
   "version": "3.8.5"
  }
 },
 "nbformat": 4,
 "nbformat_minor": 4
}
